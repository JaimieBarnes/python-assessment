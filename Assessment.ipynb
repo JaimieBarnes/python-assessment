{
 "cells": [
  {
   "cell_type": "code",
   "execution_count": 4,
   "id": "1b9cef03-f7c4-40de-92a7-9fc3e47edfd6",
   "metadata": {},
   "outputs": [],
   "source": [
    "import pandas as pd"
   ]
  },
  {
   "cell_type": "code",
   "execution_count": 23,
   "id": "04188262-3190-4a42-af19-a14b48a09e05",
   "metadata": {},
   "outputs": [],
   "source": [
    "spiders = pd.read_csv(r\"C:\\Users\\jcb260\\Documents\\python-assessment\\spiders_data.csv\")"
   ]
  },
  {
   "cell_type": "code",
   "execution_count": 17,
   "id": "15cd959f-69d1-4bba-9b7a-f64e1c621020",
   "metadata": {},
   "outputs": [
    {
     "data": {
      "text/html": [
       "<div>\n",
       "<style scoped>\n",
       "    .dataframe tbody tr th:only-of-type {\n",
       "        vertical-align: middle;\n",
       "    }\n",
       "\n",
       "    .dataframe tbody tr th {\n",
       "        vertical-align: top;\n",
       "    }\n",
       "\n",
       "    .dataframe thead th {\n",
       "        text-align: right;\n",
       "    }\n",
       "</style>\n",
       "<table border=\"1\" class=\"dataframe\">\n",
       "  <thead>\n",
       "    <tr style=\"text-align: right;\">\n",
       "      <th></th>\n",
       "      <th>speciesId</th>\n",
       "      <th>species_lsid</th>\n",
       "      <th>family</th>\n",
       "      <th>genus</th>\n",
       "      <th>species</th>\n",
       "      <th>subspecies</th>\n",
       "      <th>author</th>\n",
       "      <th>year</th>\n",
       "      <th>parentheses</th>\n",
       "      <th>distribution</th>\n",
       "    </tr>\n",
       "  </thead>\n",
       "  <tbody>\n",
       "    <tr>\n",
       "      <th>0</th>\n",
       "      <td>1</td>\n",
       "      <td>urn:lsid:nmbe.ch:spidersp:000896</td>\n",
       "      <td>Actinopodidae</td>\n",
       "      <td>Actinopus</td>\n",
       "      <td>caraiba</td>\n",
       "      <td>NaN</td>\n",
       "      <td>Simon</td>\n",
       "      <td>1889</td>\n",
       "      <td>1</td>\n",
       "      <td>Venezuela</td>\n",
       "    </tr>\n",
       "    <tr>\n",
       "      <th>1</th>\n",
       "      <td>2</td>\n",
       "      <td>urn:lsid:nmbe.ch:spidersp:000898</td>\n",
       "      <td>Actinopodidae</td>\n",
       "      <td>Actinopus</td>\n",
       "      <td>crassipes</td>\n",
       "      <td>NaN</td>\n",
       "      <td>Keyserling</td>\n",
       "      <td>1891</td>\n",
       "      <td>1</td>\n",
       "      <td>Brazil, Paraguay, Argentina</td>\n",
       "    </tr>\n",
       "    <tr>\n",
       "      <th>2</th>\n",
       "      <td>3</td>\n",
       "      <td>urn:lsid:nmbe.ch:spidersp:000899</td>\n",
       "      <td>Actinopodidae</td>\n",
       "      <td>Actinopus</td>\n",
       "      <td>cucutaensis</td>\n",
       "      <td>NaN</td>\n",
       "      <td>Mello-Leitão</td>\n",
       "      <td>1941</td>\n",
       "      <td>0</td>\n",
       "      <td>Colombia, Venezuela, Brazil</td>\n",
       "    </tr>\n",
       "    <tr>\n",
       "      <th>3</th>\n",
       "      <td>4</td>\n",
       "      <td>urn:lsid:nmbe.ch:spidersp:000900</td>\n",
       "      <td>Actinopodidae</td>\n",
       "      <td>Actinopus</td>\n",
       "      <td>dubiomaculatus</td>\n",
       "      <td>NaN</td>\n",
       "      <td>Mello-Leitão</td>\n",
       "      <td>1923</td>\n",
       "      <td>0</td>\n",
       "      <td>Brazil</td>\n",
       "    </tr>\n",
       "    <tr>\n",
       "      <th>4</th>\n",
       "      <td>5</td>\n",
       "      <td>urn:lsid:nmbe.ch:spidersp:000901</td>\n",
       "      <td>Actinopodidae</td>\n",
       "      <td>Actinopus</td>\n",
       "      <td>echinus</td>\n",
       "      <td>NaN</td>\n",
       "      <td>Mello-Leitão</td>\n",
       "      <td>1949</td>\n",
       "      <td>0</td>\n",
       "      <td>Brazil</td>\n",
       "    </tr>\n",
       "  </tbody>\n",
       "</table>\n",
       "</div>"
      ],
      "text/plain": [
       "   speciesId                      species_lsid         family      genus  \\\n",
       "0          1  urn:lsid:nmbe.ch:spidersp:000896  Actinopodidae  Actinopus   \n",
       "1          2  urn:lsid:nmbe.ch:spidersp:000898  Actinopodidae  Actinopus   \n",
       "2          3  urn:lsid:nmbe.ch:spidersp:000899  Actinopodidae  Actinopus   \n",
       "3          4  urn:lsid:nmbe.ch:spidersp:000900  Actinopodidae  Actinopus   \n",
       "4          5  urn:lsid:nmbe.ch:spidersp:000901  Actinopodidae  Actinopus   \n",
       "\n",
       "          species subspecies        author  year  parentheses  \\\n",
       "0         caraiba        NaN         Simon  1889            1   \n",
       "1       crassipes        NaN    Keyserling  1891            1   \n",
       "2     cucutaensis        NaN  Mello-Leitão  1941            0   \n",
       "3  dubiomaculatus        NaN  Mello-Leitão  1923            0   \n",
       "4         echinus        NaN  Mello-Leitão  1949            0   \n",
       "\n",
       "                  distribution  \n",
       "0                    Venezuela  \n",
       "1  Brazil, Paraguay, Argentina  \n",
       "2  Colombia, Venezuela, Brazil  \n",
       "3                       Brazil  \n",
       "4                       Brazil  "
      ]
     },
     "execution_count": 17,
     "metadata": {},
     "output_type": "execute_result"
    }
   ],
   "source": [
    "spiders.head()"
   ]
  },
  {
   "cell_type": "code",
   "execution_count": 19,
   "id": "23dc202e-a4f1-4865-9d15-d036ea794757",
   "metadata": {},
   "outputs": [],
   "source": [
    "import statsmodels.api as sm"
   ]
  },
  {
   "cell_type": "code",
   "execution_count": 22,
   "id": "e69081e3-3ea7-422d-abfa-02ff7b9b33fa",
   "metadata": {},
   "outputs": [
    {
     "ename": "AttributeError",
     "evalue": "'DataFrame' object has no attribute 'endog'",
     "output_type": "error",
     "traceback": [
      "\u001b[1;31m---------------------------------------------------------------------------\u001b[0m",
      "\u001b[1;31mAttributeError\u001b[0m                            Traceback (most recent call last)",
      "\u001b[1;32m~\\AppData\\Local\\Temp\\ipykernel_39640\\439842066.py\u001b[0m in \u001b[0;36m<module>\u001b[1;34m\u001b[0m\n\u001b[1;32m----> 1\u001b[1;33m \u001b[0mgaus\u001b[0m \u001b[1;33m=\u001b[0m \u001b[0msm\u001b[0m\u001b[1;33m.\u001b[0m\u001b[0mGLM\u001b[0m\u001b[1;33m(\u001b[0m\u001b[0mspiders\u001b[0m\u001b[1;33m.\u001b[0m\u001b[0mendog\u001b[0m\u001b[1;33m,\u001b[0m \u001b[0mspider\u001b[0m\u001b[1;33m.\u001b[0m\u001b[0mexog\u001b[0m\u001b[1;33m,\u001b[0m \u001b[0mfamily\u001b[0m\u001b[1;33m=\u001b[0m\u001b[0msm\u001b[0m\u001b[1;33m.\u001b[0m\u001b[0mfamilies\u001b[0m\u001b[1;33m.\u001b[0m\u001b[0mGaussian\u001b[0m\u001b[1;33m(\u001b[0m\u001b[1;33m)\u001b[0m\u001b[1;33m)\u001b[0m\u001b[1;33m\u001b[0m\u001b[1;33m\u001b[0m\u001b[0m\n\u001b[0m",
      "\u001b[1;32m~\\Anaconda3\\lib\\site-packages\\pandas\\core\\generic.py\u001b[0m in \u001b[0;36m__getattr__\u001b[1;34m(self, name)\u001b[0m\n\u001b[0;32m   5573\u001b[0m         ):\n\u001b[0;32m   5574\u001b[0m             \u001b[1;32mreturn\u001b[0m \u001b[0mself\u001b[0m\u001b[1;33m[\u001b[0m\u001b[0mname\u001b[0m\u001b[1;33m]\u001b[0m\u001b[1;33m\u001b[0m\u001b[1;33m\u001b[0m\u001b[0m\n\u001b[1;32m-> 5575\u001b[1;33m         \u001b[1;32mreturn\u001b[0m \u001b[0mobject\u001b[0m\u001b[1;33m.\u001b[0m\u001b[0m__getattribute__\u001b[0m\u001b[1;33m(\u001b[0m\u001b[0mself\u001b[0m\u001b[1;33m,\u001b[0m \u001b[0mname\u001b[0m\u001b[1;33m)\u001b[0m\u001b[1;33m\u001b[0m\u001b[1;33m\u001b[0m\u001b[0m\n\u001b[0m\u001b[0;32m   5576\u001b[0m \u001b[1;33m\u001b[0m\u001b[0m\n\u001b[0;32m   5577\u001b[0m     \u001b[1;32mdef\u001b[0m \u001b[0m__setattr__\u001b[0m\u001b[1;33m(\u001b[0m\u001b[0mself\u001b[0m\u001b[1;33m,\u001b[0m \u001b[0mname\u001b[0m\u001b[1;33m:\u001b[0m \u001b[0mstr\u001b[0m\u001b[1;33m,\u001b[0m \u001b[0mvalue\u001b[0m\u001b[1;33m)\u001b[0m \u001b[1;33m->\u001b[0m \u001b[1;32mNone\u001b[0m\u001b[1;33m:\u001b[0m\u001b[1;33m\u001b[0m\u001b[1;33m\u001b[0m\u001b[0m\n",
      "\u001b[1;31mAttributeError\u001b[0m: 'DataFrame' object has no attribute 'endog'"
     ]
    }
   ],
   "source": [
    "gaus = sm.GLM(spiders, , family=sm.families.Gaussian())"
   ]
  },
  {
   "cell_type": "markdown",
   "id": "d51e5e45-e52e-421e-b54d-169e7d42bbf4",
   "metadata": {},
   "source": [
    "# spiders\n",
    "things to possibly predict:\n",
    "make sure there are graphs\n",
    "make sure there is enough to show the different things we learned \n",
    "class prediction - spider family - is this predicted by species number\n",
    "class prediction - distribution - is this predicted by species number\n",
    "glm - is species number predictable in a glm using family + distribution"
   ]
  }
 ],
 "metadata": {
  "kernelspec": {
   "display_name": "Python 3 (ipykernel)",
   "language": "python",
   "name": "python3"
  },
  "language_info": {
   "codemirror_mode": {
    "name": "ipython",
    "version": 3
   },
   "file_extension": ".py",
   "mimetype": "text/x-python",
   "name": "python",
   "nbconvert_exporter": "python",
   "pygments_lexer": "ipython3",
   "version": "3.9.13"
  }
 },
 "nbformat": 4,
 "nbformat_minor": 5
}
